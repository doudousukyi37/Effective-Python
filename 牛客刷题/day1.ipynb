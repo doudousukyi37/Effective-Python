{
 "cells": [
  {
   "cell_type": "markdown",
   "metadata": {},
   "source": [
    "range 函数在 Python 中用于生成一个整数序列。该函数有三个参数：\n",
    "\n",
    "start：序列的起始值，默认为 0。\n",
    "stop：序列的结束值，但不包含此值。\n",
    "step：序列中每个数的增量，默认为 1。\n",
    "在你提供的代码 range(10, 1, -2) 中：\n",
    "\n",
    "10 是序列的起始值。\n",
    "1 是序列的结束值，但由于 range 不包含结束值，所以序列中最大的数会小于 1。\n",
    "-2 是步长，表示序列中每个数之间的差值。"
   ]
  },
  {
   "cell_type": "code",
   "execution_count": 1,
   "metadata": {},
   "outputs": [
    {
     "name": "stdout",
     "output_type": "stream",
     "text": [
      "10\n",
      "8\n",
      "6\n",
      "4\n",
      "2\n"
     ]
    }
   ],
   "source": [
    "for i in range(10, 1, -2):\n",
    "    print(i)"
   ]
  },
  {
   "cell_type": "code",
   "execution_count": 2,
   "metadata": {},
   "outputs": [
    {
     "name": "stdout",
     "output_type": "stream",
     "text": [
      "p\n",
      "y\n",
      "t\n"
     ]
    }
   ],
   "source": [
    "for i in 'python':\n",
    "    if i == 'h':\n",
    "        break\n",
    "    print(i)"
   ]
  },
  {
   "cell_type": "code",
   "execution_count": 3,
   "metadata": {},
   "outputs": [
    {
     "name": "stdout",
     "output_type": "stream",
     "text": [
      "1\n"
     ]
    }
   ],
   "source": [
    "str1 = ''\n",
    "str2 = ' '\n",
    "if not str1:\n",
    "    print(1)\n",
    "elif not str2:\n",
    "    print(2)\n",
    "else:\n",
    "    print(0)"
   ]
  },
  {
   "cell_type": "markdown",
   "metadata": {},
   "source": [
    "我们有一个字符串 str1 被初始化为空字符串 ('')，另一个字符串 str2 被初始化为包含一个空格的字符串 (' ')。\n",
    "\n",
    "让我们逐行分析代码：\n",
    "\n",
    "str1 = ''：str1 被设置为空字符串。\n",
    "str2 = ' '：str2 被设置为包含一个空格的字符串。\n",
    "if not str1:：这个条件检查 str1 是否为假值。在Python中，空字符串 ('') 被认为是假值（False），所以这个条件为真。\n",
    "print(1)：由于 if 条件为真，执行 print(1)。\n",
    "elif not str2:：这个条件检查 str2 是否为假值。由于 str2 是一个包含空格的字符串，它在Python中被认为是真值（True），所以这个条件为假，不会执行。\n",
    "else:：由于 if 条件为真，else 块不会被执行。"
   ]
  },
  {
   "cell_type": "code",
   "execution_count": 4,
   "metadata": {},
   "outputs": [
    {
     "name": "stdout",
     "output_type": "stream",
     "text": [
      "True\n"
     ]
    }
   ],
   "source": [
    "str = \"Hello,Python\";\n",
    "suffix = \"Python\";\n",
    "print (str.endswith(suffix,2));"
   ]
  },
  {
   "cell_type": "markdown",
   "metadata": {},
   "source": [
    "str.endswith(suffix, 2) 会从字符串 str 的索引 2（从 0 开始计数）处开始检查是否以 suffix 结尾。"
   ]
  },
  {
   "cell_type": "code",
   "execution_count": 5,
   "metadata": {},
   "outputs": [
    {
     "name": "stdout",
     "output_type": "stream",
     "text": [
      "***abcd***\n"
     ]
    }
   ],
   "source": [
    "strs = 'abcd'\n",
    "print(strs.center(10, '*'))"
   ]
  },
  {
   "cell_type": "markdown",
   "metadata": {},
   "source": [
    "代码使用了字符串的 center 方法，其作用是将原字符串 strs 居中放置，并在两侧填充指定的字符，直到结果字符串达到指定的宽度"
   ]
  },
  {
   "cell_type": "code",
   "execution_count": 6,
   "metadata": {},
   "outputs": [
    {
     "name": "stdout",
     "output_type": "stream",
     "text": [
      "{'one': 1, 'two': 2, 'three': 3}\n",
      "{'one': 'abc', 'two': 2, 'three': 3}\n"
     ]
    }
   ],
   "source": [
    "dicts = {'one': 1, 'two': 2, 'three': 3}\n",
    "tmp = dicts.copy()\n",
    "tmp['one'] = 'abc'\n",
    "print(dicts)\n",
    "print(tmp)"
   ]
  },
  {
   "cell_type": "code",
   "execution_count": 7,
   "metadata": {},
   "outputs": [
    {
     "name": "stdout",
     "output_type": "stream",
     "text": [
      "6\n"
     ]
    }
   ],
   "source": [
    "res = 0\n",
    "for i in range(1, 4):\n",
    "    for j in range(1, 4):\n",
    "        for k in range(1, 4):\n",
    "            if i != j and i != k and j != k:\n",
    "                res += 1\n",
    "print(res)"
   ]
  },
  {
   "cell_type": "code",
   "execution_count": 8,
   "metadata": {},
   "outputs": [
    {
     "name": "stdout",
     "output_type": "stream",
     "text": [
      "[1, 2, 3, 4, ['a', 'b', 'c'], 5]\n",
      "[1, 2, 3, 4, ['a', 'b', 'c'], 5]\n",
      "[1, 2, 3, 4, ['a', 'b', 'c']]\n",
      "[1, 2, 3, 4, ['a', 'b']]\n"
     ]
    }
   ],
   "source": [
    "import copy\n",
    "a = [1, 2, 3, 4, ['a', 'b']]\n",
    "b = a\n",
    "c = copy.copy(a)\n",
    "d = copy.deepcopy(a)\n",
    "a.append(5)\n",
    "a[4].append('c')\n",
    "print(a)\n",
    "print(b)\n",
    "print(c)\n",
    "print(d)"
   ]
  },
  {
   "cell_type": "markdown",
   "metadata": {},
   "source": [
    "浅拷贝（Shallow Copy）：浅拷贝会创建一个新对象，其内容是原对象中对象的引用拷贝。对于简单数据类型（如整数、浮点数、字符串等），这没有问题，因为它们是不可变的。但对于可变数据类型（如列表、字典等），浅拷贝会导致原始对象和拷贝对象共享相同的子对象。\n",
    "\n",
    "如果您修改了原始对象 a 中的可变子对象（例如，修改 a 中的列表），那么这些修改也会反映在浅拷贝对象 c 中，因为 c 只是复制了 a 中子对象的引用。\n",
    "\n",
    "同样，如果您修改了浅拷贝对象 c 中的可变子对象，这些修改也会反映在原始对象 a 中，因为它们共享相同的子对象。\n",
    "\n",
    "深拷贝（Deep Copy）：深拷贝会创建一个新对象，并且递归地复制对象中的所有子对象。这意味着原始对象和拷贝对象之间没有任何共享的子对象。\n",
    "\n",
    "如果您修改了原始对象 a 中的可变子对象，这些修改不会反映在深拷贝对象 d 中，因为 d 中的子对象是独立的拷贝。\n",
    "\n",
    "同样，如果您修改了深拷贝对象 d 中的可变子对象，这些修改也不会反映在原始对象 a 中。"
   ]
  },
  {
   "cell_type": "code",
   "execution_count": 9,
   "metadata": {},
   "outputs": [
    {
     "name": "stdout",
     "output_type": "stream",
     "text": [
      "[['1', '1', '1'], ['1', '1', '1'], ['1', '1', '1']]\n"
     ]
    }
   ],
   "source": [
    "a = [['1']*3 for i in range(3)]\n",
    "\n",
    "print(a)"
   ]
  },
  {
   "cell_type": "markdown",
   "metadata": {},
   "source": [
    "range(3) 生成一个从 0 到 2 的序列。\n",
    "对于序列中的每个 i（即 0、1、2），执行 ['1']*3 表达式，这会创建一个包含 3 个字符串 '1' 的列表。\n",
    "这些列表被收集起来，构成一个新的列表 a。"
   ]
  },
  {
   "cell_type": "code",
   "execution_count": 10,
   "metadata": {},
   "outputs": [
    {
     "name": "stdout",
     "output_type": "stream",
     "text": [
      "[['1'], ['1'], ['1']]\n"
     ]
    }
   ],
   "source": [
    "b = [['1']]*3\n",
    "\n",
    "print(b)"
   ]
  },
  {
   "cell_type": "code",
   "execution_count": 13,
   "metadata": {},
   "outputs": [
    {
     "name": "stdout",
     "output_type": "stream",
     "text": [
      "[['1', '1', '1'], ['1', '1', '1'], ['1', '1', '1']]\n"
     ]
    }
   ],
   "source": [
    "c=[]\n",
    "\n",
    "for i in range(3):\n",
    "\n",
    "    lis = ['1']*3\n",
    "\n",
    "    c.append(lis)\n",
    "\n",
    "print(c)"
   ]
  },
  {
   "cell_type": "code",
   "execution_count": 12,
   "metadata": {},
   "outputs": [
    {
     "name": "stdout",
     "output_type": "stream",
     "text": [
      "[['1', '1', '1'], ['1', '1', '1'], ['1', '1', '1']]\n"
     ]
    }
   ],
   "source": [
    "d = []\n",
    "\n",
    "lis = ['1']*3\n",
    "\n",
    "for i in range(3):\n",
    "\n",
    "    d.append(lis)\n",
    "\n",
    "print(d)"
   ]
  },
  {
   "cell_type": "code",
   "execution_count": 14,
   "metadata": {},
   "outputs": [
    {
     "name": "stdout",
     "output_type": "stream",
     "text": [
      "3\n",
      "1\n",
      "3.3333333333333335\n"
     ]
    }
   ],
   "source": [
    "a = 10\n",
    "b = 3\n",
    "print(a // b)\n",
    "print(a % b)\n",
    "print(a / b)"
   ]
  },
  {
   "cell_type": "markdown",
   "metadata": {},
   "source": [
    "a // b：这是整数除法（也称为地板除法），它返回两个数相除后的整数部分。在这个例子中，10 // 3 的结果是 3，因为 10 除以 3 等于 3 余 1，整数部分是 3。\n",
    "\n",
    "a % b：这是取模运算，它返回两个数相除后的余数。在这个例子中，10 % 3 的结果是 1，因为 10 除以 3 等于 3 余 1，余数是 1。\n",
    "\n",
    "a / b：这是浮点数除法，它返回两个数相除后的精确结果，包括小数部分。在这个例子中，10 / 3 的结果是 3.3333333333333335，因为 10 除以 3 等于 3.3333333333333335。"
   ]
  },
  {
   "cell_type": "code",
   "execution_count": 15,
   "metadata": {},
   "outputs": [
    {
     "name": "stdout",
     "output_type": "stream",
     "text": [
      "1 0 0\n"
     ]
    }
   ],
   "source": [
    "class Base(object):\n",
    "\n",
    "    count = 0\n",
    "\n",
    "    def __init__(self):\n",
    "\n",
    "        pass\n",
    "b1 = Base()\n",
    "b2 = Base()\n",
    "\n",
    "b1.count = b1.count + 1\n",
    "\n",
    "print(b1.count,end=\" \")\n",
    "\n",
    "print(Base.count,end=\" \")\n",
    "\n",
    "print(b2.count)"
   ]
  },
  {
   "cell_type": "code",
   "execution_count": null,
   "metadata": {},
   "outputs": [
    {
     "name": "stdout",
     "output_type": "stream",
     "text": [
      "0\n",
      "1\n",
      "2\n",
      "3\n",
      "4\n"
     ]
    }
   ],
   "source": [
    "for i in range(5):\n",
    "    if i == 2:\n",
    "        pass\n",
    "    print(i) # pass 语句是一个空操作，它表示“什么都不做”"
   ]
  },
  {
   "cell_type": "code",
   "execution_count": 17,
   "metadata": {},
   "outputs": [
    {
     "ename": "UnboundLocalError",
     "evalue": "cannot access local variable 'num' where it is not associated with a value",
     "output_type": "error",
     "traceback": [
      "\u001b[0;31m---------------------------------------------------------------------------\u001b[0m",
      "\u001b[0;31mUnboundLocalError\u001b[0m                         Traceback (most recent call last)",
      "Cell \u001b[0;32mIn[17], line 9\u001b[0m\n\u001b[1;32m      5\u001b[0m     num \u001b[38;5;241m+\u001b[39m\u001b[38;5;241m=\u001b[39m \u001b[38;5;241m1\u001b[39m\n\u001b[1;32m      7\u001b[0m     \u001b[38;5;28;01mreturn\u001b[39;00m \u001b[38;5;28;01mlambda\u001b[39;00m:\u001b[38;5;28mprint\u001b[39m(num)\n\u001b[0;32m----> 9\u001b[0m x \u001b[38;5;241m=\u001b[39m fn()\n\u001b[1;32m     11\u001b[0m x()\n",
      "Cell \u001b[0;32mIn[17], line 5\u001b[0m, in \u001b[0;36mfn\u001b[0;34m()\u001b[0m\n\u001b[1;32m      3\u001b[0m \u001b[38;5;28;01mdef\u001b[39;00m \u001b[38;5;21mfn\u001b[39m():\n\u001b[0;32m----> 5\u001b[0m     num \u001b[38;5;241m+\u001b[39m\u001b[38;5;241m=\u001b[39m \u001b[38;5;241m1\u001b[39m\n\u001b[1;32m      7\u001b[0m     \u001b[38;5;28;01mreturn\u001b[39;00m \u001b[38;5;28;01mlambda\u001b[39;00m:\u001b[38;5;28mprint\u001b[39m(num)\n",
      "\u001b[0;31mUnboundLocalError\u001b[0m: cannot access local variable 'num' where it is not associated with a value"
     ]
    }
   ],
   "source": [
    "num = 1\n",
    "\n",
    "def fn():\n",
    "\n",
    "    num += 1\n",
    "\n",
    "    return lambda:print(num)\n",
    "\n",
    "x = fn()\n",
    "\n",
    "x()"
   ]
  },
  {
   "cell_type": "code",
   "execution_count": null,
   "metadata": {},
   "outputs": [],
   "source": []
  }
 ],
 "metadata": {
  "kernelspec": {
   "display_name": "base",
   "language": "python",
   "name": "python3"
  },
  "language_info": {
   "codemirror_mode": {
    "name": "ipython",
    "version": 3
   },
   "file_extension": ".py",
   "mimetype": "text/x-python",
   "name": "python",
   "nbconvert_exporter": "python",
   "pygments_lexer": "ipython3",
   "version": "3.11.7"
  }
 },
 "nbformat": 4,
 "nbformat_minor": 2
}
