{
 "cells": [
  {
   "cell_type": "code",
   "execution_count": 1,
   "metadata": {},
   "outputs": [
    {
     "name": "stdout",
     "output_type": "stream",
     "text": [
      "p\n",
      "y\n",
      "t\n"
     ]
    }
   ],
   "source": [
    "for i in 'python':\n",
    "    if i == 'h':\n",
    "        break\n",
    "    print(i)"
   ]
  },
  {
   "cell_type": "code",
   "execution_count": 2,
   "metadata": {},
   "outputs": [
    {
     "name": "stdout",
     "output_type": "stream",
     "text": [
      "I like python\n",
      " I like python\n"
     ]
    }
   ],
   "source": [
    "strs = ' I like python '\n",
    "one = strs.strip()\n",
    "print(one)\n",
    "two = strs.rstrip()\n",
    "print(two)"
   ]
  },
  {
   "cell_type": "markdown",
   "metadata": {},
   "source": [
    "one = strs.strip() 会移除字符串 strs 两端的所有空白字符，因此 one 的值将是 'I like python'。  \n",
    "two = strs.rstrip() 只会移除字符串 strs 右侧的空白字符，因此 two 的值将是 ' I like python '，注意左侧的空格仍然存在。"
   ]
  },
  {
   "cell_type": "code",
   "execution_count": 3,
   "metadata": {},
   "outputs": [
    {
     "name": "stdout",
     "output_type": "stream",
     "text": [
      "c\n"
     ]
    }
   ],
   "source": [
    "strs = 'abbacabb'\n",
    "print(strs.strip('ab'))"
   ]
  },
  {
   "cell_type": "markdown",
   "metadata": {},
   "source": [
    "strs.strip('ab') 会移除字符串 strs 两端所有连续出现的字符 'a' 和 'b'。这里的关键是理解 strip 方法的行为：它不仅移除单个字符，还会移除两端连续出现的字符序列"
   ]
  },
  {
   "cell_type": "code",
   "execution_count": 4,
   "metadata": {},
   "outputs": [
    {
     "name": "stdout",
     "output_type": "stream",
     "text": [
      "False\n"
     ]
    }
   ],
   "source": [
    "lis = [1,3,2]\n",
    "\n",
    "a = id(lis)\n",
    "\n",
    "lis = sorted(lis)\n",
    "\n",
    "b = id(lis)\n",
    "\n",
    "print(a==b)"
   ]
  },
  {
   "cell_type": "markdown",
   "metadata": {},
   "source": [
    "id() 函数返回一个对象的“身份”，即该对象在内存中的地址\n",
    "sorted(lis) 对列表 lis 进行排序，返回一个新的列表，而不会修改原始的 lis 列表。因此，sorted() 函数创建了一个新的列表对象"
   ]
  },
  {
   "cell_type": "code",
   "execution_count": 7,
   "metadata": {},
   "outputs": [
    {
     "name": "stdout",
     "output_type": "stream",
     "text": [
      "False\n"
     ]
    }
   ],
   "source": [
    "tup = (1,3,2)\n",
    "\n",
    "a = id(tup)\n",
    "\n",
    "tup += (4,5)\n",
    "\n",
    "b = id(tup)\n",
    "\n",
    "print(a==b)"
   ]
  }
 ],
 "metadata": {
  "kernelspec": {
   "display_name": "base",
   "language": "python",
   "name": "python3"
  },
  "language_info": {
   "codemirror_mode": {
    "name": "ipython",
    "version": 3
   },
   "file_extension": ".py",
   "mimetype": "text/x-python",
   "name": "python",
   "nbconvert_exporter": "python",
   "pygments_lexer": "ipython3",
   "version": "3.11.7"
  }
 },
 "nbformat": 4,
 "nbformat_minor": 2
}
