{
 "cells": [
  {
   "cell_type": "code",
   "execution_count": 1,
   "metadata": {},
   "outputs": [
    {
     "name": "stdout",
     "output_type": "stream",
     "text": [
      "p\n",
      "y\n",
      "t\n"
     ]
    }
   ],
   "source": [
    "for i in 'python':\n",
    "    if i == 'h':\n",
    "        break\n",
    "    print(i)"
   ]
  },
  {
   "cell_type": "code",
   "execution_count": 2,
   "metadata": {},
   "outputs": [
    {
     "name": "stdout",
     "output_type": "stream",
     "text": [
      "I like python\n",
      " I like python\n"
     ]
    }
   ],
   "source": [
    "strs = ' I like python '\n",
    "one = strs.strip()\n",
    "print(one)\n",
    "two = strs.rstrip()\n",
    "print(two)"
   ]
  },
  {
   "cell_type": "markdown",
   "metadata": {},
   "source": [
    "one = strs.strip() 会移除字符串 strs 两端的所有空白字符，因此 one 的值将是 'I like python'。  \n",
    "two = strs.rstrip() 只会移除字符串 strs 右侧的空白字符，因此 two 的值将是 ' I like python '，注意左侧的空格仍然存在。"
   ]
  },
  {
   "cell_type": "code",
   "execution_count": 3,
   "metadata": {},
   "outputs": [
    {
     "name": "stdout",
     "output_type": "stream",
     "text": [
      "c\n"
     ]
    }
   ],
   "source": [
    "strs = 'abbacabb'\n",
    "print(strs.strip('ab'))"
   ]
  },
  {
   "cell_type": "markdown",
   "metadata": {},
   "source": [
    "strs.strip('ab') 会移除字符串 strs 两端所有连续出现的字符 'a' 和 'b'。这里的关键是理解 strip 方法的行为：它不仅移除单个字符，还会移除两端连续出现的字符序列"
   ]
  },
  {
   "cell_type": "code",
   "execution_count": 4,
   "metadata": {},
   "outputs": [
    {
     "name": "stdout",
     "output_type": "stream",
     "text": [
      "False\n"
     ]
    }
   ],
   "source": [
    "lis = [1,3,2]\n",
    "\n",
    "a = id(lis)\n",
    "\n",
    "lis = sorted(lis)\n",
    "\n",
    "b = id(lis)\n",
    "\n",
    "print(a==b)"
   ]
  },
  {
   "cell_type": "markdown",
   "metadata": {},
   "source": [
    "id() 函数返回一个对象的“身份”，即该对象在内存中的地址\n",
    "sorted(lis) 对列表 lis 进行排序，返回一个新的列表，而不会修改原始的 lis 列表。因此，sorted() 函数创建了一个新的列表对象"
   ]
  },
  {
   "cell_type": "code",
   "execution_count": 7,
   "metadata": {},
   "outputs": [
    {
     "name": "stdout",
     "output_type": "stream",
     "text": [
      "False\n"
     ]
    }
   ],
   "source": [
    "tup = (1,3,2)\n",
    "\n",
    "a = id(tup)\n",
    "\n",
    "tup += (4,5)\n",
    "\n",
    "b = id(tup)\n",
    "\n",
    "print(a==b)"
   ]
  },
  {
   "cell_type": "code",
   "execution_count": 1,
   "metadata": {},
   "outputs": [
    {
     "name": "stdout",
     "output_type": "stream",
     "text": [
      "True\n"
     ]
    }
   ],
   "source": [
    "a = 0 or 1 and True\n",
    "\n",
    "print(a)"
   ]
  },
  {
   "cell_type": "markdown",
   "metadata": {},
   "source": [
    "1 and True：由于and的优先级高于or，这个表达式会先被计算。在Python中，and运算符会返回第一个为假的操作数，或者最后一个操作数（如果所有操作数都为真）。因为1是真值（在布尔上下文中，任何非零数值都被视为真），所以1 and True的结果为True。\n",
    "\n",
    "0 or (1 and True)：现在，我们得到了0 or True。在or运算中，如果第一个操作数为假（0在布尔上下文中被视为假），则返回第二个操作数。因此，0 or True的结果为True。"
   ]
  },
  {
   "cell_type": "code",
   "execution_count": 2,
   "metadata": {},
   "outputs": [
    {
     "name": "stdout",
     "output_type": "stream",
     "text": [
      "***abcd***\n"
     ]
    }
   ],
   "source": [
    "strs = 'abcd'\n",
    "print(strs.center(10, '*'))"
   ]
  },
  {
   "cell_type": "markdown",
   "metadata": {},
   "source": [
    "strs.center(10, '*')的作用是：\n",
    "\n",
    "strs：这是要被居中的字符串，即'abcd'。\n",
    "10：这是指定的宽度，意味着返回的字符串总长度应该是10个字符。\n",
    "'*'：这是填充字符，用来填充字符串以达到指定的宽度。"
   ]
  },
  {
   "cell_type": "code",
   "execution_count": 5,
   "metadata": {},
   "outputs": [
    {
     "data": {
      "text/plain": [
       "12"
      ]
     },
     "execution_count": 5,
     "metadata": {},
     "output_type": "execute_result"
    }
   ],
   "source": [
    "def dec(f):\n",
    "    n = 3\n",
    "    def wrapper(*args,**kw):\n",
    "        return f(*args,**kw) * n\n",
    "    return wrapper\n",
    " \n",
    "@dec\n",
    "def foo(n):\n",
    "    return n * 2\n",
    "foo(2)"
   ]
  },
  {
   "cell_type": "markdown",
   "metadata": {},
   "source": [
    "这段代码展示了Python中的装饰器（decorator）的使用。装饰器是一种设计模式，用于在不修改原有函数代码的情况下，增加函数的新功能。\n",
    "\n",
    "让我们逐步解释这段代码：\n",
    "\n",
    "1. 定义了一个名为`dec`的装饰器函数。它接受一个函数`f`作为参数，并定义了一个内部函数`wrapper`。\n",
    "\n",
    "2. `wrapper`函数接受任意数量的位置参数（`*args`）和任意数量的关键字参数（`**kw`）。这意味着`wrapper`可以接收和原函数`f`相同的参数。\n",
    "\n",
    "3. 在`wrapper`函数内部，它调用了原函数`f`，并传入了所有接收到的参数（`*args`和`**kw`），然后将原函数的返回值乘以`n`（在这个例子中，`n`被设置为3）。\n",
    "\n",
    "4. `dec`装饰器函数返回`wrapper`函数。\n",
    "\n",
    "5. 使用`@dec`语法将`dec`装饰器应用于`foo`函数。这意味着`foo`函数在执行时，实际上是执行了`dec`装饰器中的`wrapper`函数。\n",
    "\n",
    "6. `foo`函数定义为接受一个参数`n`，并返回`n`乘以2的结果。\n",
    "\n",
    "7. 最后，调用`foo(2)`。由于`foo`函数被`dec`装饰器装饰，实际上是调用了`dec`装饰器中的`wrapper`函数。\n",
    "\n",
    "现在，让我们看看`foo(2)`的执行过程：\n",
    "\n",
    "- `foo(2)`被调用，实际上是调用`wrapper(2)`。\n",
    "- `wrapper`函数接收到参数`2`，并将其传递给`foo`函数。\n",
    "- `foo`函数计算`2 * 2`，得到`4`。\n",
    "- `wrapper`函数接收到`foo`函数的返回值`4`，并将其乘以`n`（在`dec`装饰器中`n`的值为3）。\n",
    "- 最终，`wrapper`函数返回`4 * 3`，即`12`。\n",
    "\n",
    "因此，`foo(2)`的结果是`12`。这段代码演示了如何通过装饰器在不改变原函数代码的情况下，增加额外的功能（在这个例子中是将函数的返回值乘以3）。\n"
   ]
  },
  {
   "cell_type": "code",
   "execution_count": 1,
   "metadata": {},
   "outputs": [
    {
     "name": "stdout",
     "output_type": "stream",
     "text": [
      "[2, 6, 20, 40]\n",
      "[30, 40]\n"
     ]
    }
   ],
   "source": [
    "a=[2, 4, 6, 8, 20,30,40]\n",
    "print(a[::2])\n",
    "print(a[-2:])"
   ]
  },
  {
   "cell_type": "markdown",
   "metadata": {},
   "source": [
    "print(a[::2])：\n",
    "\n",
    "这行代码打印列表 a 中的元素，从第一个元素开始，每次跳过一个元素，直到列表结束。\n",
    "切片的格式为 [start:stop:step]，其中 start 是切片的起始位置，stop 是切片的结束位置（不包括该位置的元素），step 是步长，即每次跳过的元素数量。\n",
    "在这个例子中，a[::2] 表示从第一个元素开始（start 默认为 0），直到列表的末尾（stop 默认为列表长度），每次跳过 2 个元素（step 为 2）。\n",
    "结果将是 [2, 6, 20]，因为这些是列表 a 中每隔一个元素的值。\n",
    "print(a[-2:])：\n",
    "\n",
    "这行代码打印列表 a 中的最后两个元素。\n",
    "切片的负数索引表示从列表的末尾开始计数，-2 表示从倒数第二个元素开始，: 表示直到列表的末尾。\n",
    "结果将是 [30, 40]，因为这些是列表 a 中的最后两个元素。"
   ]
  },
  {
   "cell_type": "code",
   "execution_count": 2,
   "metadata": {},
   "outputs": [
    {
     "name": "stdout",
     "output_type": "stream",
     "text": [
      "顺顺\n",
      "顺顺\n"
     ]
    }
   ],
   "source": [
    "name = \"顺顺\"\n",
    "def f1():\n",
    "    print(name)\n",
    "def f2():\n",
    "    name = \"丰丰\"\n",
    "f1()\n",
    "f1()\n",
    "f2()"
   ]
  },
  {
   "cell_type": "code",
   "execution_count": 3,
   "metadata": {},
   "outputs": [
    {
     "name": "stdout",
     "output_type": "stream",
     "text": [
      "[6, 4, 2]\n"
     ]
    }
   ],
   "source": [
    "tmp = [1, 2, 3, 4, 5, 6]\n",
    "print(tmp[5::-2])"
   ]
  },
  {
   "cell_type": "code",
   "execution_count": 9,
   "metadata": {},
   "outputs": [
    {
     "name": "stdout",
     "output_type": "stream",
     "text": [
      "['pear', 'lemon', 'peach', 'apple']\n"
     ]
    }
   ],
   "source": [
    "lis = ['apple','lemon','pear','peach']\n",
    "\n",
    "def fn(x):\n",
    "    return x[::-1]\n",
    "lis.sort(key=fn,reverse=True)\n",
    "print(lis)"
   ]
  },
  {
   "cell_type": "markdown",
   "metadata": {},
   "source": [
    "给定的代码中，fn(x) 函数返回的是字符串 x 的逆序。lis.sort(key=fn, reverse=True) 表示列表 lis 会根据 fn 函数的结果进行排序，并且由于 reverse=True，排序是降序的。\n",
    "\n",
    "我们来计算每个元素的逆序，并按照逆序的降序排序：\n",
    "\n",
    "'apple' 逆序为 'elppa'\n",
    "'lemon' 逆序为 'nomel'\n",
    "'pear' 逆序为 'raep'\n",
    "'peach' 逆序为 'hcaep'\n",
    "现在，我们根据逆序字符串的降序来排序原列表：\n",
    "\n",
    "'raep'（对应 'pear'）\n",
    "'nomel'（对应 'lemon'）\n",
    "'hcaep'（对应 'peach'）\n",
    "'elppa'（对应 'apple'）\n",
    "因此，排序后的列表 lis 将会是：\n",
    "\n",
    "python\n",
    "['pear', 'lemon', 'peach', 'apple']"
   ]
  },
  {
   "cell_type": "code",
   "execution_count": 11,
   "metadata": {},
   "outputs": [
    {
     "name": "stdout",
     "output_type": "stream",
     "text": [
      "True\n"
     ]
    }
   ],
   "source": [
    "lis = [1,3,2]\n",
    "\n",
    "a = id(lis)\n",
    "\n",
    "lis += [4,5]\n",
    "\n",
    "b = id(lis)\n",
    "\n",
    "print(a==b)"
   ]
  },
  {
   "cell_type": "code",
   "execution_count": 13,
   "metadata": {},
   "outputs": [
    {
     "name": "stdout",
     "output_type": "stream",
     "text": [
      "4\n"
     ]
    }
   ],
   "source": [
    "nums = set([1,2,2,3,3,3,4])\n",
    "print(len(nums))"
   ]
  },
  {
   "cell_type": "markdown",
   "metadata": {},
   "source": [
    "这段代码中，`nums` 是一个集合（set），它是Python中的一个内置数据类型。集合是一个无序的、不重复的元素集。\n",
    "\n",
    "代码 `set([1,2,2,3,3,3,4])` 创建了一个集合，其中包含了数字1、2、3和4。虽然在创建集合的列表中数字2和3重复出现了，但在集合中，每个元素都是唯一的，重复的元素会被自动去除。\n",
    "\n",
    "因此，`nums` 集合最终包含的元素是 {1, 2, 3, 4}，没有重复的元素。所以，使用 `len(nums)` 来获取集合中元素的数量时，输出的结果就是4，因为集合中有四个不同的元素。"
   ]
  },
  {
   "cell_type": "code",
   "execution_count": 14,
   "metadata": {},
   "outputs": [
    {
     "ename": "TypeError",
     "evalue": "pop expected at least 1 argument, got 0",
     "output_type": "error",
     "traceback": [
      "\u001b[0;31m---------------------------------------------------------------------------\u001b[0m",
      "\u001b[0;31mTypeError\u001b[0m                                 Traceback (most recent call last)",
      "Cell \u001b[0;32mIn[14], line 2\u001b[0m\n\u001b[1;32m      1\u001b[0m dicts \u001b[38;5;241m=\u001b[39m {\u001b[38;5;124m'\u001b[39m\u001b[38;5;124ma\u001b[39m\u001b[38;5;124m'\u001b[39m: \u001b[38;5;241m1\u001b[39m, \u001b[38;5;124m'\u001b[39m\u001b[38;5;124mb\u001b[39m\u001b[38;5;124m'\u001b[39m: \u001b[38;5;241m2\u001b[39m, \u001b[38;5;124m'\u001b[39m\u001b[38;5;124mc\u001b[39m\u001b[38;5;124m'\u001b[39m: \u001b[38;5;241m3\u001b[39m}\n\u001b[0;32m----> 2\u001b[0m \u001b[38;5;28mprint\u001b[39m(dicts\u001b[38;5;241m.\u001b[39mpop())\n",
      "\u001b[0;31mTypeError\u001b[0m: pop expected at least 1 argument, got 0"
     ]
    }
   ],
   "source": [
    "dicts = {'a': 1, 'b': 2, 'c': 3}\n",
    "print(dicts.pop())"
   ]
  },
  {
   "cell_type": "markdown",
   "metadata": {},
   "source": [
    "在Python 3中，`dict.pop()` 方法需要至少一个参数，即要移除的键。如果没有提供参数，就会像你展示的错误信息一样，抛出一个 `TypeError`，提示 `pop expected at least 1 argument, got 0`。\n",
    "\n",
    "正确的做法是提供要移除的键作为参数。例如：\n",
    "\n",
    "```python\n",
    "dicts = {'a': 1, 'b': 2, 'c': 3}\n",
    "print(dicts.pop('a'))  # 这会输出 1，并从字典中移除键 'a'\n",
    "```\n",
    "\n",
    "如果你想要移除字典中的最后一个元素，你需要先获取最后一个键，然后调用 `pop()` 方法。例如：\n",
    "\n",
    "```python\n",
    "dicts = {'a': 1, 'b': 2, 'c': 3}\n",
    "key_to_pop = list(dicts.keys())[-1]  # 获取最后一个键\n",
    "print(dicts.pop(key_to_pop))  # 移除并打印最后一个键值对的值\n",
    "```\n",
    "\n",
    "所以，根据你提供的代码和错误信息，正确答案是：\n",
    "\n",
    "B. 报错\n"
   ]
  },
  {
   "cell_type": "code",
   "execution_count": 15,
   "metadata": {},
   "outputs": [
    {
     "name": "stdout",
     "output_type": "stream",
     "text": [
      "Abcd12Efg\n"
     ]
    }
   ],
   "source": [
    "strs = 'abcd12efg'\n",
    "print(strs.upper().title())"
   ]
  },
  {
   "cell_type": "markdown",
   "metadata": {},
   "source": [
    "这段代码的作用是将字符串 `strs` 中的所有字符转换为大写，并且将每个单词的首字母转换为大写，其余字母转换为小写。\n",
    "\n",
    "具体步骤如下：\n",
    "\n",
    "1. `strs.upper()`：将字符串 `strs` 中的所有小写字母转换为大写字母。结果为 `'ABCD12EFG'`。\n",
    "\n",
    "2. `.title()`：将字符串中的每个单词的首字母转换为大写，其余字母转换为小写。在这个例子中，由于字符串中的数字 `'12'` 不被视为单词的一部分，所以只有 `'ABCD'` 和 `'EFG'` 被视为单词。\n",
    "\n",
    "最终输出结果为 `'Abcd12Efg'`。"
   ]
  },
  {
   "cell_type": "code",
   "execution_count": 16,
   "metadata": {},
   "outputs": [
    {
     "name": "stdout",
     "output_type": "stream",
     "text": [
      "6\n"
     ]
    }
   ],
   "source": [
    "str1 = \"Hello,Python\";\n",
    "str2 = \"Python\";\n",
    "print(str1.index(str2));"
   ]
  },
  {
   "cell_type": "code",
   "execution_count": 17,
   "metadata": {},
   "outputs": [
    {
     "name": "stdout",
     "output_type": "stream",
     "text": [
      "-------\n",
      "1\n",
      "-------\n",
      "2\n",
      "-------\n",
      "-------\n",
      "4\n",
      "-------\n",
      "5\n"
     ]
    }
   ],
   "source": [
    "for i in range(5):\n",
    "    i+=1\n",
    "    print(\"-------\")\n",
    "    if i==3:\n",
    "      continue\n",
    "    print(i)"
   ]
  },
  {
   "cell_type": "code",
   "execution_count": 18,
   "metadata": {},
   "outputs": [
    {
     "name": "stdout",
     "output_type": "stream",
     "text": [
      "***abcd***\n"
     ]
    }
   ],
   "source": [
    "strs = 'abcd'\n",
    "print(strs.center(10, '*'))"
   ]
  },
  {
   "cell_type": "code",
   "execution_count": 19,
   "metadata": {},
   "outputs": [],
   "source": [
    "class Rectangle:\n",
    "\n",
    "    __count = 0\n",
    "\n",
    "    def __init__(self,width,height):\n",
    "\n",
    "        Rectangle.__count += 1\n",
    "\n",
    "        self.__width = width\n",
    "\n",
    "        self.__height = height\n",
    "\n",
    "    @property\n",
    "\n",
    "    def area(self):\n",
    "\n",
    "        return self.__height * self.__width\n",
    "\n",
    "rectangle = Rectangle(200,100)"
   ]
  },
  {
   "cell_type": "markdown",
   "metadata": {},
   "source": [
    "选项 A: 创建实例对象 rectangle 后，可以在类外使用 rectangle.area() 访问 area 属性。\n",
    "\n",
    "嗯，area 是用 @property 装饰器定义的，这意味着它可以像属性一样访问，而不需要调用方法。因此，应该是 rectangle.area 而不是 rectangle.area()。让我测试一下。\n",
    "\n",
    "如果我尝试 rectangle.area()，Python 会抛出一个错误，因为 area 是一个属性，而不是方法。所以，选项 A 是错误的。\n",
    "\n",
    "选项 B: area 属性是非私有的，可以访问和修改。\n",
    "\n",
    "好的，area 是用 @property 定义的，这意味着它是只读的，除非提供一个 setter 方法。在类中没有提供 setter 方法，因此 area 是只读的。这意味着我们只能访问它，不能修改它。所以，选项 B 是部分正确的；它是非私有的，可以访问，但不能修改。我暂时认为它是正确的。\n",
    "\n",
    "选项 C: __count 变量用于统计创建的对象数量。\n",
    "\n",
    "看看代码，__count 在 __init__ 方法中递增，每次创建新的 Rectangle 实例时都会增加。这确实符合统计创建对象数量的用途。所以，选项 C 看起来是正确的。\n",
    "\n",
    "选项 D: 因为 __width 和 __height 是私有变量，所以在类外无法访问 __width 和 __height 属性。\n",
    "在 Python 中，双下划线前缀（__）表示强名称改写，旨在使属性私有。然而，技术上，它们仍然可以通过改写后的名称从类外访问，例如 rectangle._Rectangle__width。所以，虽然它们的意图是私有的，但并非完全无法访问。因此，选项 D 的表述有些误导；虽然它们是私有的，但并非完全无法访问。因此，选项 D 不完全正确。\n"
   ]
  },
  {
   "cell_type": "code",
   "execution_count": 20,
   "metadata": {},
   "outputs": [
    {
     "name": "stdout",
     "output_type": "stream",
     "text": [
      "apple\n",
      "pear\n"
     ]
    }
   ],
   "source": [
    "tup = (('onion', 'apple'), ('tomato', 'pear'))\n",
    "for _, fruit in tup:\n",
    "    print(fruit)"
   ]
  },
  {
   "cell_type": "code",
   "execution_count": 21,
   "metadata": {},
   "outputs": [
    {
     "name": "stdout",
     "output_type": "stream",
     "text": [
      "4474479488\n"
     ]
    }
   ],
   "source": [
    "a = [b for b in range(10) if b % 2 == 0]\n",
    "\n",
    "print(b)"
   ]
  },
  {
   "cell_type": "code",
   "execution_count": 22,
   "metadata": {},
   "outputs": [
    {
     "name": "stdout",
     "output_type": "stream",
     "text": [
      "(7, 2)\n"
     ]
    }
   ],
   "source": [
    "a = 100\n",
    "b = 14\n",
    "print(divmod(a, b))"
   ]
  },
  {
   "cell_type": "markdown",
   "metadata": {},
   "source": [
    "divmod 会同时返回两个数的商和余数"
   ]
  },
  {
   "cell_type": "code",
   "execution_count": 23,
   "metadata": {},
   "outputs": [
    {
     "name": "stdout",
     "output_type": "stream",
     "text": [
      "None\n",
      "18\n"
     ]
    }
   ],
   "source": [
    "info = {'name':'班长', 'id':100, 'sex':'f', 'address':'北京'}\n",
    "age = info.get('age')\n",
    "print(age)\n",
    "age=info.get('age',18)\n",
    "print(age)"
   ]
  },
  {
   "cell_type": "markdown",
   "metadata": {},
   "source": [
    "这段代码是Python语言编写的，它的作用是从一个字典 `info` 中获取 `age` 的值，并打印出来。如果 `age` 不在字典中，则会打印默认值。下面是代码的逐行解释：\n",
    "\n",
    "1. `info = {'name':'班长', 'id':100, 'sex':'f', 'address':'北京'}`：创建一个名为 `info` 的字典，包含四个键值对。\n",
    "\n",
    "2. `age = info.get('age')`：使用字典的 `get` 方法尝试获取 `info` 字典中键为 `'age'` 的值。如果 `'age'` 键不存在，`get` 方法会返回 `None`。\n",
    "\n",
    "3. `print(age)`：打印变量 `age` 的值。由于 `info` 字典中没有 `'age'` 键，所以这里会打印 `None`。\n",
    "\n",
    "4. `age=info.get('age',18)`：再次使用 `get` 方法，但这次提供了一个默认值 `18`。如果 `'age'` 键不存在，`get` 方法会返回默认值 `18`。\n",
    "\n",
    "5. `print(age)`：打印变量 `age` 的值。由于 `info` 字典中没有 `'age'` 键，所以这里会打印默认值 `18`。\n",
    "\n",
    "综上所述，这段代码的作用是尝试从 `info` 字典中获取 `age` 的值，如果不存在，则使用默认值 `18`，并分别打印这两个结果。"
   ]
  },
  {
   "cell_type": "code",
   "execution_count": 24,
   "metadata": {},
   "outputs": [
    {
     "name": "stdout",
     "output_type": "stream",
     "text": [
      "1\n"
     ]
    }
   ],
   "source": [
    "str1 = ''\n",
    "str2 = ' '\n",
    "if not str1:\n",
    "    print(1)\n",
    "elif not str2:\n",
    "    print(2)\n",
    "else:\n",
    "    print(0)"
   ]
  },
  {
   "cell_type": "code",
   "execution_count": 25,
   "metadata": {},
   "outputs": [
    {
     "name": "stdout",
     "output_type": "stream",
     "text": [
      "4\n"
     ]
    }
   ],
   "source": [
    "tmp = [1, 2, 3, 4, 5, 6]\n",
    "tmp.insert(-3, 'a')\n",
    "print(tmp[4])"
   ]
  },
  {
   "cell_type": "code",
   "execution_count": 26,
   "metadata": {},
   "outputs": [
    {
     "data": {
      "text/plain": [
       "[1, 2, 3, 'a', 4, 5, 6]"
      ]
     },
     "execution_count": 26,
     "metadata": {},
     "output_type": "execute_result"
    }
   ],
   "source": [
    "tmp"
   ]
  },
  {
   "cell_type": "code",
   "execution_count": 2,
   "metadata": {},
   "outputs": [
    {
     "data": {
      "text/html": [
       "<div>\n",
       "<style scoped>\n",
       "    .dataframe tbody tr th:only-of-type {\n",
       "        vertical-align: middle;\n",
       "    }\n",
       "\n",
       "    .dataframe tbody tr th {\n",
       "        vertical-align: top;\n",
       "    }\n",
       "\n",
       "    .dataframe thead th {\n",
       "        text-align: right;\n",
       "    }\n",
       "</style>\n",
       "<table border=\"1\" class=\"dataframe\">\n",
       "  <thead>\n",
       "    <tr style=\"text-align: right;\">\n",
       "      <th></th>\n",
       "      <th>key</th>\n",
       "      <th>value_left</th>\n",
       "    </tr>\n",
       "  </thead>\n",
       "  <tbody>\n",
       "    <tr>\n",
       "      <th>0</th>\n",
       "      <td>A</td>\n",
       "      <td>1</td>\n",
       "    </tr>\n",
       "    <tr>\n",
       "      <th>1</th>\n",
       "      <td>B</td>\n",
       "      <td>2</td>\n",
       "    </tr>\n",
       "    <tr>\n",
       "      <th>2</th>\n",
       "      <td>C</td>\n",
       "      <td>3</td>\n",
       "    </tr>\n",
       "  </tbody>\n",
       "</table>\n",
       "</div>"
      ],
      "text/plain": [
       "  key  value_left\n",
       "0   A           1\n",
       "1   B           2\n",
       "2   C           3"
      ]
     },
     "execution_count": 2,
     "metadata": {},
     "output_type": "execute_result"
    }
   ],
   "source": [
    "import pandas as pd \n",
    "\n",
    "\n",
    "left = pd.DataFrame({'key': ['A', 'B', 'C'], 'value_left': [1, 2, 3]})\n",
    "left"
   ]
  },
  {
   "cell_type": "code",
   "execution_count": 3,
   "metadata": {},
   "outputs": [
    {
     "data": {
      "text/html": [
       "<div>\n",
       "<style scoped>\n",
       "    .dataframe tbody tr th:only-of-type {\n",
       "        vertical-align: middle;\n",
       "    }\n",
       "\n",
       "    .dataframe tbody tr th {\n",
       "        vertical-align: top;\n",
       "    }\n",
       "\n",
       "    .dataframe thead th {\n",
       "        text-align: right;\n",
       "    }\n",
       "</style>\n",
       "<table border=\"1\" class=\"dataframe\">\n",
       "  <thead>\n",
       "    <tr style=\"text-align: right;\">\n",
       "      <th></th>\n",
       "      <th>key</th>\n",
       "      <th>value_right</th>\n",
       "    </tr>\n",
       "  </thead>\n",
       "  <tbody>\n",
       "    <tr>\n",
       "      <th>0</th>\n",
       "      <td>B</td>\n",
       "      <td>4</td>\n",
       "    </tr>\n",
       "    <tr>\n",
       "      <th>1</th>\n",
       "      <td>D</td>\n",
       "      <td>5</td>\n",
       "    </tr>\n",
       "    <tr>\n",
       "      <th>2</th>\n",
       "      <td>E</td>\n",
       "      <td>6</td>\n",
       "    </tr>\n",
       "  </tbody>\n",
       "</table>\n",
       "</div>"
      ],
      "text/plain": [
       "  key  value_right\n",
       "0   B            4\n",
       "1   D            5\n",
       "2   E            6"
      ]
     },
     "execution_count": 3,
     "metadata": {},
     "output_type": "execute_result"
    }
   ],
   "source": [
    "right = pd.DataFrame({'key': ['B', 'D', 'E'], 'value_right': [4, 5, 6]})\n",
    "right"
   ]
  },
  {
   "cell_type": "code",
   "execution_count": 4,
   "metadata": {},
   "outputs": [
    {
     "data": {
      "text/html": [
       "<div>\n",
       "<style scoped>\n",
       "    .dataframe tbody tr th:only-of-type {\n",
       "        vertical-align: middle;\n",
       "    }\n",
       "\n",
       "    .dataframe tbody tr th {\n",
       "        vertical-align: top;\n",
       "    }\n",
       "\n",
       "    .dataframe thead th {\n",
       "        text-align: right;\n",
       "    }\n",
       "</style>\n",
       "<table border=\"1\" class=\"dataframe\">\n",
       "  <thead>\n",
       "    <tr style=\"text-align: right;\">\n",
       "      <th></th>\n",
       "      <th>key</th>\n",
       "      <th>value_left</th>\n",
       "      <th>value_right</th>\n",
       "    </tr>\n",
       "  </thead>\n",
       "  <tbody>\n",
       "    <tr>\n",
       "      <th>0</th>\n",
       "      <td>B</td>\n",
       "      <td>2</td>\n",
       "      <td>4</td>\n",
       "    </tr>\n",
       "  </tbody>\n",
       "</table>\n",
       "</div>"
      ],
      "text/plain": [
       "  key  value_left  value_right\n",
       "0   B           2            4"
      ]
     },
     "execution_count": 4,
     "metadata": {},
     "output_type": "execute_result"
    }
   ],
   "source": [
    "inner_merged = pd.merge(left, right, on='key', how='inner')\n",
    "inner_merged"
   ]
  },
  {
   "cell_type": "code",
   "execution_count": 5,
   "metadata": {},
   "outputs": [
    {
     "data": {
      "text/html": [
       "<div>\n",
       "<style scoped>\n",
       "    .dataframe tbody tr th:only-of-type {\n",
       "        vertical-align: middle;\n",
       "    }\n",
       "\n",
       "    .dataframe tbody tr th {\n",
       "        vertical-align: top;\n",
       "    }\n",
       "\n",
       "    .dataframe thead th {\n",
       "        text-align: right;\n",
       "    }\n",
       "</style>\n",
       "<table border=\"1\" class=\"dataframe\">\n",
       "  <thead>\n",
       "    <tr style=\"text-align: right;\">\n",
       "      <th></th>\n",
       "      <th>key</th>\n",
       "      <th>value_left</th>\n",
       "      <th>value_right</th>\n",
       "    </tr>\n",
       "  </thead>\n",
       "  <tbody>\n",
       "    <tr>\n",
       "      <th>0</th>\n",
       "      <td>A</td>\n",
       "      <td>1.0</td>\n",
       "      <td>NaN</td>\n",
       "    </tr>\n",
       "    <tr>\n",
       "      <th>1</th>\n",
       "      <td>B</td>\n",
       "      <td>2.0</td>\n",
       "      <td>4.0</td>\n",
       "    </tr>\n",
       "    <tr>\n",
       "      <th>2</th>\n",
       "      <td>C</td>\n",
       "      <td>3.0</td>\n",
       "      <td>NaN</td>\n",
       "    </tr>\n",
       "    <tr>\n",
       "      <th>3</th>\n",
       "      <td>D</td>\n",
       "      <td>NaN</td>\n",
       "      <td>5.0</td>\n",
       "    </tr>\n",
       "    <tr>\n",
       "      <th>4</th>\n",
       "      <td>E</td>\n",
       "      <td>NaN</td>\n",
       "      <td>6.0</td>\n",
       "    </tr>\n",
       "  </tbody>\n",
       "</table>\n",
       "</div>"
      ],
      "text/plain": [
       "  key  value_left  value_right\n",
       "0   A         1.0          NaN\n",
       "1   B         2.0          4.0\n",
       "2   C         3.0          NaN\n",
       "3   D         NaN          5.0\n",
       "4   E         NaN          6.0"
      ]
     },
     "execution_count": 5,
     "metadata": {},
     "output_type": "execute_result"
    }
   ],
   "source": [
    "outer_merged = pd.merge(left, right, on='key', how='outer')\n",
    "outer_merged"
   ]
  },
  {
   "cell_type": "code",
   "execution_count": 6,
   "metadata": {},
   "outputs": [
    {
     "data": {
      "text/html": [
       "<div>\n",
       "<style scoped>\n",
       "    .dataframe tbody tr th:only-of-type {\n",
       "        vertical-align: middle;\n",
       "    }\n",
       "\n",
       "    .dataframe tbody tr th {\n",
       "        vertical-align: top;\n",
       "    }\n",
       "\n",
       "    .dataframe thead th {\n",
       "        text-align: right;\n",
       "    }\n",
       "</style>\n",
       "<table border=\"1\" class=\"dataframe\">\n",
       "  <thead>\n",
       "    <tr style=\"text-align: right;\">\n",
       "      <th></th>\n",
       "      <th>key</th>\n",
       "      <th>value_left</th>\n",
       "      <th>value_right</th>\n",
       "    </tr>\n",
       "  </thead>\n",
       "  <tbody>\n",
       "    <tr>\n",
       "      <th>0</th>\n",
       "      <td>A</td>\n",
       "      <td>1</td>\n",
       "      <td>NaN</td>\n",
       "    </tr>\n",
       "    <tr>\n",
       "      <th>1</th>\n",
       "      <td>B</td>\n",
       "      <td>2</td>\n",
       "      <td>4.0</td>\n",
       "    </tr>\n",
       "    <tr>\n",
       "      <th>2</th>\n",
       "      <td>C</td>\n",
       "      <td>3</td>\n",
       "      <td>NaN</td>\n",
       "    </tr>\n",
       "  </tbody>\n",
       "</table>\n",
       "</div>"
      ],
      "text/plain": [
       "  key  value_left  value_right\n",
       "0   A           1          NaN\n",
       "1   B           2          4.0\n",
       "2   C           3          NaN"
      ]
     },
     "execution_count": 6,
     "metadata": {},
     "output_type": "execute_result"
    }
   ],
   "source": [
    "left_merged = pd.merge(left, right, on='key', how='left')\n",
    "left_merged"
   ]
  },
  {
   "cell_type": "code",
   "execution_count": 7,
   "metadata": {},
   "outputs": [
    {
     "data": {
      "text/html": [
       "<div>\n",
       "<style scoped>\n",
       "    .dataframe tbody tr th:only-of-type {\n",
       "        vertical-align: middle;\n",
       "    }\n",
       "\n",
       "    .dataframe tbody tr th {\n",
       "        vertical-align: top;\n",
       "    }\n",
       "\n",
       "    .dataframe thead th {\n",
       "        text-align: right;\n",
       "    }\n",
       "</style>\n",
       "<table border=\"1\" class=\"dataframe\">\n",
       "  <thead>\n",
       "    <tr style=\"text-align: right;\">\n",
       "      <th></th>\n",
       "      <th>key</th>\n",
       "      <th>value_left</th>\n",
       "      <th>value_right</th>\n",
       "    </tr>\n",
       "  </thead>\n",
       "  <tbody>\n",
       "    <tr>\n",
       "      <th>0</th>\n",
       "      <td>B</td>\n",
       "      <td>2.0</td>\n",
       "      <td>4</td>\n",
       "    </tr>\n",
       "    <tr>\n",
       "      <th>1</th>\n",
       "      <td>D</td>\n",
       "      <td>NaN</td>\n",
       "      <td>5</td>\n",
       "    </tr>\n",
       "    <tr>\n",
       "      <th>2</th>\n",
       "      <td>E</td>\n",
       "      <td>NaN</td>\n",
       "      <td>6</td>\n",
       "    </tr>\n",
       "  </tbody>\n",
       "</table>\n",
       "</div>"
      ],
      "text/plain": [
       "  key  value_left  value_right\n",
       "0   B         2.0            4\n",
       "1   D         NaN            5\n",
       "2   E         NaN            6"
      ]
     },
     "execution_count": 7,
     "metadata": {},
     "output_type": "execute_result"
    }
   ],
   "source": [
    "right_merged = pd.merge(left, right, on='key', how='right')\n",
    "right_merged"
   ]
  },
  {
   "cell_type": "code",
   "execution_count": 8,
   "metadata": {},
   "outputs": [
    {
     "data": {
      "text/html": [
       "<div>\n",
       "<style scoped>\n",
       "    .dataframe tbody tr th:only-of-type {\n",
       "        vertical-align: middle;\n",
       "    }\n",
       "\n",
       "    .dataframe tbody tr th {\n",
       "        vertical-align: top;\n",
       "    }\n",
       "\n",
       "    .dataframe thead th {\n",
       "        text-align: right;\n",
       "    }\n",
       "</style>\n",
       "<table border=\"1\" class=\"dataframe\">\n",
       "  <thead>\n",
       "    <tr style=\"text-align: right;\">\n",
       "      <th></th>\n",
       "      <th>key</th>\n",
       "      <th>value_left</th>\n",
       "      <th>value_right</th>\n",
       "    </tr>\n",
       "  </thead>\n",
       "  <tbody>\n",
       "    <tr>\n",
       "      <th>0</th>\n",
       "      <td>A</td>\n",
       "      <td>1.0</td>\n",
       "      <td>NaN</td>\n",
       "    </tr>\n",
       "    <tr>\n",
       "      <th>1</th>\n",
       "      <td>B</td>\n",
       "      <td>2.0</td>\n",
       "      <td>NaN</td>\n",
       "    </tr>\n",
       "    <tr>\n",
       "      <th>2</th>\n",
       "      <td>C</td>\n",
       "      <td>3.0</td>\n",
       "      <td>NaN</td>\n",
       "    </tr>\n",
       "    <tr>\n",
       "      <th>0</th>\n",
       "      <td>B</td>\n",
       "      <td>NaN</td>\n",
       "      <td>4.0</td>\n",
       "    </tr>\n",
       "    <tr>\n",
       "      <th>1</th>\n",
       "      <td>D</td>\n",
       "      <td>NaN</td>\n",
       "      <td>5.0</td>\n",
       "    </tr>\n",
       "    <tr>\n",
       "      <th>2</th>\n",
       "      <td>E</td>\n",
       "      <td>NaN</td>\n",
       "      <td>6.0</td>\n",
       "    </tr>\n",
       "  </tbody>\n",
       "</table>\n",
       "</div>"
      ],
      "text/plain": [
       "  key  value_left  value_right\n",
       "0   A         1.0          NaN\n",
       "1   B         2.0          NaN\n",
       "2   C         3.0          NaN\n",
       "0   B         NaN          4.0\n",
       "1   D         NaN          5.0\n",
       "2   E         NaN          6.0"
      ]
     },
     "execution_count": 8,
     "metadata": {},
     "output_type": "execute_result"
    }
   ],
   "source": [
    "concat_0 = pd.concat([left,right],axis=0)\n",
    "concat_0"
   ]
  },
  {
   "cell_type": "code",
   "execution_count": 9,
   "metadata": {},
   "outputs": [
    {
     "data": {
      "text/html": [
       "<div>\n",
       "<style scoped>\n",
       "    .dataframe tbody tr th:only-of-type {\n",
       "        vertical-align: middle;\n",
       "    }\n",
       "\n",
       "    .dataframe tbody tr th {\n",
       "        vertical-align: top;\n",
       "    }\n",
       "\n",
       "    .dataframe thead th {\n",
       "        text-align: right;\n",
       "    }\n",
       "</style>\n",
       "<table border=\"1\" class=\"dataframe\">\n",
       "  <thead>\n",
       "    <tr style=\"text-align: right;\">\n",
       "      <th></th>\n",
       "      <th>key</th>\n",
       "      <th>value_left</th>\n",
       "      <th>key</th>\n",
       "      <th>value_right</th>\n",
       "    </tr>\n",
       "  </thead>\n",
       "  <tbody>\n",
       "    <tr>\n",
       "      <th>0</th>\n",
       "      <td>A</td>\n",
       "      <td>1</td>\n",
       "      <td>B</td>\n",
       "      <td>4</td>\n",
       "    </tr>\n",
       "    <tr>\n",
       "      <th>1</th>\n",
       "      <td>B</td>\n",
       "      <td>2</td>\n",
       "      <td>D</td>\n",
       "      <td>5</td>\n",
       "    </tr>\n",
       "    <tr>\n",
       "      <th>2</th>\n",
       "      <td>C</td>\n",
       "      <td>3</td>\n",
       "      <td>E</td>\n",
       "      <td>6</td>\n",
       "    </tr>\n",
       "  </tbody>\n",
       "</table>\n",
       "</div>"
      ],
      "text/plain": [
       "  key  value_left key  value_right\n",
       "0   A           1   B            4\n",
       "1   B           2   D            5\n",
       "2   C           3   E            6"
      ]
     },
     "execution_count": 9,
     "metadata": {},
     "output_type": "execute_result"
    }
   ],
   "source": [
    "concat_1 = pd.concat([left,right],axis=1)\n",
    "concat_1"
   ]
  }
 ],
 "metadata": {
  "kernelspec": {
   "display_name": "base",
   "language": "python",
   "name": "python3"
  },
  "language_info": {
   "codemirror_mode": {
    "name": "ipython",
    "version": 3
   },
   "file_extension": ".py",
   "mimetype": "text/x-python",
   "name": "python",
   "nbconvert_exporter": "python",
   "pygments_lexer": "ipython3",
   "version": "3.11.7"
  }
 },
 "nbformat": 4,
 "nbformat_minor": 2
}
