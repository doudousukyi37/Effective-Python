{
 "cells": [
  {
   "cell_type": "code",
   "execution_count": 1,
   "metadata": {},
   "outputs": [
    {
     "name": "stdout",
     "output_type": "stream",
     "text": [
      "p\n",
      "y\n",
      "t\n"
     ]
    }
   ],
   "source": [
    "for i in 'python':\n",
    "    if i == 'h':\n",
    "        break\n",
    "    print(i)"
   ]
  },
  {
   "cell_type": "code",
   "execution_count": 2,
   "metadata": {},
   "outputs": [
    {
     "name": "stdout",
     "output_type": "stream",
     "text": [
      "I like python\n",
      " I like python\n"
     ]
    }
   ],
   "source": [
    "strs = ' I like python '\n",
    "one = strs.strip()\n",
    "print(one)\n",
    "two = strs.rstrip()\n",
    "print(two)"
   ]
  },
  {
   "cell_type": "markdown",
   "metadata": {},
   "source": [
    "one = strs.strip() 会移除字符串 strs 两端的所有空白字符，因此 one 的值将是 'I like python'。  \n",
    "two = strs.rstrip() 只会移除字符串 strs 右侧的空白字符，因此 two 的值将是 ' I like python '，注意左侧的空格仍然存在。"
   ]
  },
  {
   "cell_type": "code",
   "execution_count": 3,
   "metadata": {},
   "outputs": [
    {
     "name": "stdout",
     "output_type": "stream",
     "text": [
      "c\n"
     ]
    }
   ],
   "source": [
    "strs = 'abbacabb'\n",
    "print(strs.strip('ab'))"
   ]
  },
  {
   "cell_type": "markdown",
   "metadata": {},
   "source": [
    "strs.strip('ab') 会移除字符串 strs 两端所有连续出现的字符 'a' 和 'b'。这里的关键是理解 strip 方法的行为：它不仅移除单个字符，还会移除两端连续出现的字符序列"
   ]
  },
  {
   "cell_type": "code",
   "execution_count": 4,
   "metadata": {},
   "outputs": [
    {
     "name": "stdout",
     "output_type": "stream",
     "text": [
      "False\n"
     ]
    }
   ],
   "source": [
    "lis = [1,3,2]\n",
    "\n",
    "a = id(lis)\n",
    "\n",
    "lis = sorted(lis)\n",
    "\n",
    "b = id(lis)\n",
    "\n",
    "print(a==b)"
   ]
  },
  {
   "cell_type": "markdown",
   "metadata": {},
   "source": [
    "id() 函数返回一个对象的“身份”，即该对象在内存中的地址\n",
    "sorted(lis) 对列表 lis 进行排序，返回一个新的列表，而不会修改原始的 lis 列表。因此，sorted() 函数创建了一个新的列表对象"
   ]
  },
  {
   "cell_type": "code",
   "execution_count": 7,
   "metadata": {},
   "outputs": [
    {
     "name": "stdout",
     "output_type": "stream",
     "text": [
      "False\n"
     ]
    }
   ],
   "source": [
    "tup = (1,3,2)\n",
    "\n",
    "a = id(tup)\n",
    "\n",
    "tup += (4,5)\n",
    "\n",
    "b = id(tup)\n",
    "\n",
    "print(a==b)"
   ]
  },
  {
   "cell_type": "code",
   "execution_count": 1,
   "metadata": {},
   "outputs": [
    {
     "name": "stdout",
     "output_type": "stream",
     "text": [
      "True\n"
     ]
    }
   ],
   "source": [
    "a = 0 or 1 and True\n",
    "\n",
    "print(a)"
   ]
  },
  {
   "cell_type": "markdown",
   "metadata": {},
   "source": [
    "1 and True：由于and的优先级高于or，这个表达式会先被计算。在Python中，and运算符会返回第一个为假的操作数，或者最后一个操作数（如果所有操作数都为真）。因为1是真值（在布尔上下文中，任何非零数值都被视为真），所以1 and True的结果为True。\n",
    "\n",
    "0 or (1 and True)：现在，我们得到了0 or True。在or运算中，如果第一个操作数为假（0在布尔上下文中被视为假），则返回第二个操作数。因此，0 or True的结果为True。"
   ]
  },
  {
   "cell_type": "code",
   "execution_count": 2,
   "metadata": {},
   "outputs": [
    {
     "name": "stdout",
     "output_type": "stream",
     "text": [
      "***abcd***\n"
     ]
    }
   ],
   "source": [
    "strs = 'abcd'\n",
    "print(strs.center(10, '*'))"
   ]
  },
  {
   "cell_type": "markdown",
   "metadata": {},
   "source": [
    "strs.center(10, '*')的作用是：\n",
    "\n",
    "strs：这是要被居中的字符串，即'abcd'。\n",
    "10：这是指定的宽度，意味着返回的字符串总长度应该是10个字符。\n",
    "'*'：这是填充字符，用来填充字符串以达到指定的宽度。"
   ]
  },
  {
   "cell_type": "code",
   "execution_count": 5,
   "metadata": {},
   "outputs": [
    {
     "data": {
      "text/plain": [
       "12"
      ]
     },
     "execution_count": 5,
     "metadata": {},
     "output_type": "execute_result"
    }
   ],
   "source": [
    "def dec(f):\n",
    "    n = 3\n",
    "    def wrapper(*args,**kw):\n",
    "        return f(*args,**kw) * n\n",
    "    return wrapper\n",
    " \n",
    "@dec\n",
    "def foo(n):\n",
    "    return n * 2\n",
    "foo(2)"
   ]
  },
  {
   "cell_type": "markdown",
   "metadata": {},
   "source": [
    "这段代码展示了Python中的装饰器（decorator）的使用。装饰器是一种设计模式，用于在不修改原有函数代码的情况下，增加函数的新功能。\n",
    "\n",
    "让我们逐步解释这段代码：\n",
    "\n",
    "1. 定义了一个名为`dec`的装饰器函数。它接受一个函数`f`作为参数，并定义了一个内部函数`wrapper`。\n",
    "\n",
    "2. `wrapper`函数接受任意数量的位置参数（`*args`）和任意数量的关键字参数（`**kw`）。这意味着`wrapper`可以接收和原函数`f`相同的参数。\n",
    "\n",
    "3. 在`wrapper`函数内部，它调用了原函数`f`，并传入了所有接收到的参数（`*args`和`**kw`），然后将原函数的返回值乘以`n`（在这个例子中，`n`被设置为3）。\n",
    "\n",
    "4. `dec`装饰器函数返回`wrapper`函数。\n",
    "\n",
    "5. 使用`@dec`语法将`dec`装饰器应用于`foo`函数。这意味着`foo`函数在执行时，实际上是执行了`dec`装饰器中的`wrapper`函数。\n",
    "\n",
    "6. `foo`函数定义为接受一个参数`n`，并返回`n`乘以2的结果。\n",
    "\n",
    "7. 最后，调用`foo(2)`。由于`foo`函数被`dec`装饰器装饰，实际上是调用了`dec`装饰器中的`wrapper`函数。\n",
    "\n",
    "现在，让我们看看`foo(2)`的执行过程：\n",
    "\n",
    "- `foo(2)`被调用，实际上是调用`wrapper(2)`。\n",
    "- `wrapper`函数接收到参数`2`，并将其传递给`foo`函数。\n",
    "- `foo`函数计算`2 * 2`，得到`4`。\n",
    "- `wrapper`函数接收到`foo`函数的返回值`4`，并将其乘以`n`（在`dec`装饰器中`n`的值为3）。\n",
    "- 最终，`wrapper`函数返回`4 * 3`，即`12`。\n",
    "\n",
    "因此，`foo(2)`的结果是`12`。这段代码演示了如何通过装饰器在不改变原函数代码的情况下，增加额外的功能（在这个例子中是将函数的返回值乘以3）。\n"
   ]
  },
  {
   "cell_type": "code",
   "execution_count": 1,
   "metadata": {},
   "outputs": [
    {
     "name": "stdout",
     "output_type": "stream",
     "text": [
      "[2, 6, 20, 40]\n",
      "[30, 40]\n"
     ]
    }
   ],
   "source": [
    "a=[2, 4, 6, 8, 20,30,40]\n",
    "print(a[::2])\n",
    "print(a[-2:])"
   ]
  },
  {
   "cell_type": "markdown",
   "metadata": {},
   "source": [
    "print(a[::2])：\n",
    "\n",
    "这行代码打印列表 a 中的元素，从第一个元素开始，每次跳过一个元素，直到列表结束。\n",
    "切片的格式为 [start:stop:step]，其中 start 是切片的起始位置，stop 是切片的结束位置（不包括该位置的元素），step 是步长，即每次跳过的元素数量。\n",
    "在这个例子中，a[::2] 表示从第一个元素开始（start 默认为 0），直到列表的末尾（stop 默认为列表长度），每次跳过 2 个元素（step 为 2）。\n",
    "结果将是 [2, 6, 20]，因为这些是列表 a 中每隔一个元素的值。\n",
    "print(a[-2:])：\n",
    "\n",
    "这行代码打印列表 a 中的最后两个元素。\n",
    "切片的负数索引表示从列表的末尾开始计数，-2 表示从倒数第二个元素开始，: 表示直到列表的末尾。\n",
    "结果将是 [30, 40]，因为这些是列表 a 中的最后两个元素。"
   ]
  },
  {
   "cell_type": "code",
   "execution_count": 2,
   "metadata": {},
   "outputs": [
    {
     "name": "stdout",
     "output_type": "stream",
     "text": [
      "顺顺\n",
      "顺顺\n"
     ]
    }
   ],
   "source": [
    "name = \"顺顺\"\n",
    "def f1():\n",
    "    print(name)\n",
    "def f2():\n",
    "    name = \"丰丰\"\n",
    "f1()\n",
    "f1()\n",
    "f2()"
   ]
  },
  {
   "cell_type": "code",
   "execution_count": 3,
   "metadata": {},
   "outputs": [
    {
     "name": "stdout",
     "output_type": "stream",
     "text": [
      "[6, 4, 2]\n"
     ]
    }
   ],
   "source": [
    "tmp = [1, 2, 3, 4, 5, 6]\n",
    "print(tmp[5::-2])"
   ]
  },
  {
   "cell_type": "code",
   "execution_count": 9,
   "metadata": {},
   "outputs": [
    {
     "name": "stdout",
     "output_type": "stream",
     "text": [
      "['pear', 'lemon', 'peach', 'apple']\n"
     ]
    }
   ],
   "source": [
    "lis = ['apple','lemon','pear','peach']\n",
    "\n",
    "def fn(x):\n",
    "    return x[::-1]\n",
    "lis.sort(key=fn,reverse=True)\n",
    "print(lis)"
   ]
  },
  {
   "cell_type": "markdown",
   "metadata": {},
   "source": [
    "给定的代码中，fn(x) 函数返回的是字符串 x 的逆序。lis.sort(key=fn, reverse=True) 表示列表 lis 会根据 fn 函数的结果进行排序，并且由于 reverse=True，排序是降序的。\n",
    "\n",
    "我们来计算每个元素的逆序，并按照逆序的降序排序：\n",
    "\n",
    "'apple' 逆序为 'elppa'\n",
    "'lemon' 逆序为 'nomel'\n",
    "'pear' 逆序为 'raep'\n",
    "'peach' 逆序为 'hcaep'\n",
    "现在，我们根据逆序字符串的降序来排序原列表：\n",
    "\n",
    "'raep'（对应 'pear'）\n",
    "'nomel'（对应 'lemon'）\n",
    "'hcaep'（对应 'peach'）\n",
    "'elppa'（对应 'apple'）\n",
    "因此，排序后的列表 lis 将会是：\n",
    "\n",
    "python\n",
    "['pear', 'lemon', 'peach', 'apple']"
   ]
  }
 ],
 "metadata": {
  "kernelspec": {
   "display_name": "base",
   "language": "python",
   "name": "python3"
  },
  "language_info": {
   "codemirror_mode": {
    "name": "ipython",
    "version": 3
   },
   "file_extension": ".py",
   "mimetype": "text/x-python",
   "name": "python",
   "nbconvert_exporter": "python",
   "pygments_lexer": "ipython3",
   "version": "3.11.7"
  }
 },
 "nbformat": 4,
 "nbformat_minor": 2
}
